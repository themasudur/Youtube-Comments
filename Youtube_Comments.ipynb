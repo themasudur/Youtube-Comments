{
  "nbformat": 4,
  "nbformat_minor": 0,
  "metadata": {
    "colab": {
      "provenance": [],
      "collapsed_sections": [
        "K3fGulLSAwU7"
      ]
    },
    "kernelspec": {
      "name": "python3",
      "display_name": "Python 3"
    },
    "language_info": {
      "name": "python"
    }
  },
  "cells": [
    {
      "cell_type": "markdown",
      "source": [
        "# Using `youtube-comment-downloader`"
      ],
      "metadata": {
        "id": "K3fGulLSAwU7"
      }
    },
    {
      "cell_type": "code",
      "execution_count": null,
      "metadata": {
        "colab": {
          "base_uri": "https://localhost:8080/"
        },
        "id": "YusvZKRTO3TI",
        "outputId": "7e1dce3b-df3d-4e2a-e047-cc284a80f486"
      },
      "outputs": [
        {
          "output_type": "stream",
          "name": "stdout",
          "text": [
            "Collecting youtube-comment-downloader\n",
            "  Downloading youtube_comment_downloader-0.1.76-py3-none-any.whl.metadata (2.9 kB)\n",
            "Collecting dateparser (from youtube-comment-downloader)\n",
            "  Downloading dateparser-1.2.0-py2.py3-none-any.whl.metadata (28 kB)\n",
            "Requirement already satisfied: requests in /usr/local/lib/python3.10/dist-packages (from youtube-comment-downloader) (2.32.3)\n",
            "Requirement already satisfied: python-dateutil in /usr/local/lib/python3.10/dist-packages (from dateparser->youtube-comment-downloader) (2.8.2)\n",
            "Requirement already satisfied: pytz in /usr/local/lib/python3.10/dist-packages (from dateparser->youtube-comment-downloader) (2024.2)\n",
            "Requirement already satisfied: regex!=2019.02.19,!=2021.8.27 in /usr/local/lib/python3.10/dist-packages (from dateparser->youtube-comment-downloader) (2024.9.11)\n",
            "Requirement already satisfied: tzlocal in /usr/local/lib/python3.10/dist-packages (from dateparser->youtube-comment-downloader) (5.2)\n",
            "Requirement already satisfied: charset-normalizer<4,>=2 in /usr/local/lib/python3.10/dist-packages (from requests->youtube-comment-downloader) (3.4.0)\n",
            "Requirement already satisfied: idna<4,>=2.5 in /usr/local/lib/python3.10/dist-packages (from requests->youtube-comment-downloader) (3.10)\n",
            "Requirement already satisfied: urllib3<3,>=1.21.1 in /usr/local/lib/python3.10/dist-packages (from requests->youtube-comment-downloader) (2.2.3)\n",
            "Requirement already satisfied: certifi>=2017.4.17 in /usr/local/lib/python3.10/dist-packages (from requests->youtube-comment-downloader) (2024.8.30)\n",
            "Requirement already satisfied: six>=1.5 in /usr/local/lib/python3.10/dist-packages (from python-dateutil->dateparser->youtube-comment-downloader) (1.16.0)\n",
            "Downloading youtube_comment_downloader-0.1.76-py3-none-any.whl (8.2 kB)\n",
            "Downloading dateparser-1.2.0-py2.py3-none-any.whl (294 kB)\n",
            "\u001b[2K   \u001b[90m━━━━━━━━━━━━━━━━━━━━━━━━━━━━━━━━━━━━━━━━\u001b[0m \u001b[32m295.0/295.0 kB\u001b[0m \u001b[31m6.1 MB/s\u001b[0m eta \u001b[36m0:00:00\u001b[0m\n",
            "\u001b[?25hInstalling collected packages: dateparser, youtube-comment-downloader\n",
            "Successfully installed dateparser-1.2.0 youtube-comment-downloader-0.1.76\n"
          ]
        }
      ],
      "source": [
        "#!pip install youtube-comment-downloader"
      ]
    },
    {
      "cell_type": "code",
      "source": [
        "from itertools import islice\n",
        "from youtube_comment_downloader import *"
      ],
      "metadata": {
        "id": "L6dpTWofQG1t"
      },
      "execution_count": null,
      "outputs": []
    },
    {
      "cell_type": "code",
      "source": [
        "youtube_link = \"https://www.youtube.com/watch?v=85stgGqIyPU\"\n",
        "\n",
        "#https://www.youtube.com/watch?v=85stgGqIyPU\n",
        "#https://www.youtube.com/watch?v=z1m9LaEKaZ4\n"
      ],
      "metadata": {
        "id": "hCmsNz-uO6D3"
      },
      "execution_count": null,
      "outputs": []
    },
    {
      "cell_type": "code",
      "source": [
        "downloader = YoutubeCommentDownloader()\n",
        "comments = downloader.get_comments_from_url(youtube_link, sort_by=SORT_BY_POPULAR)\n",
        "comments"
      ],
      "metadata": {
        "colab": {
          "base_uri": "https://localhost:8080/"
        },
        "id": "Wvh5aPrxQIQU",
        "outputId": "0b724268-18c0-4254-aa78-254fbee46477"
      },
      "execution_count": null,
      "outputs": [
        {
          "output_type": "execute_result",
          "data": {
            "text/plain": [
              "<generator object YoutubeCommentDownloader.get_comments_from_url at 0x7c6920391310>"
            ]
          },
          "metadata": {},
          "execution_count": 17
        }
      ]
    },
    {
      "cell_type": "code",
      "source": [
        "type(comments)"
      ],
      "metadata": {
        "colab": {
          "base_uri": "https://localhost:8080/"
        },
        "id": "9Rm5t6suQzJJ",
        "outputId": "03d71342-5acc-4787-e1c3-b44c4c6da1c8"
      },
      "execution_count": null,
      "outputs": [
        {
          "output_type": "execute_result",
          "data": {
            "text/plain": [
              "generator"
            ]
          },
          "metadata": {},
          "execution_count": 89
        }
      ]
    },
    {
      "cell_type": "code",
      "source": [
        "size = len(list(comments))\n",
        "size"
      ],
      "metadata": {
        "colab": {
          "base_uri": "https://localhost:8080/"
        },
        "id": "lLxNBEsORF1X",
        "outputId": "9b816314-f9c9-49b5-bffc-8b6f7ebfd6ea"
      },
      "execution_count": null,
      "outputs": [
        {
          "output_type": "execute_result",
          "data": {
            "text/plain": [
              "5678"
            ]
          },
          "metadata": {},
          "execution_count": 19
        }
      ]
    },
    {
      "cell_type": "code",
      "source": [
        "for comment in islice(comments, 100):\n",
        "    print(comment['text'])"
      ],
      "metadata": {
        "colab": {
          "base_uri": "https://localhost:8080/"
        },
        "id": "yrEL4i22QbEz",
        "outputId": "bf23f3fb-968f-4ac2-aa32-592282499201"
      },
      "execution_count": null,
      "outputs": [
        {
          "output_type": "stream",
          "name": "stdout",
          "text": [
            "NOTE - Its been 24hrs+ since many news channels & social media handles screamed about systemic abduction / rape & genocide of Hindus in Bangladesh- YET the Govt did not say anything about this strongly. Why? Is Govt is scared & hiding the truth or once again Godse Bhakts managed fool u with fake news? If you believed in the fake news / videos - then do slap yourself on the head once.\n",
            "\n",
            "Part 1 - Bangladesh On Boil | Why Are Students On The Streets & What Is Dictator Sheikh Hasina Afraid Of - https://youtu.be/YK1pIuPsl9I?si=qYK8L3RZBkcJi5mT\n",
            "Part 2 - Can Dictator Sheikh Hasina Survive Student Protests In Bangladesh? - https://youtu.be/jCL2P85f_98?si=repMa8iTqfx0Q0gi\n",
            "Bangladesh will never forget your contribution, Akash! You will forever be remembered in the history of Independent Bangladesh. Thank you for covering the major aspects of the events and standing with the students of Bangladesh.\n",
            "\n",
            "For those who may not know, Akash is also Bengali and speaks fluent Bangla. We, the people of Bangladesh, will warmly welcome you whenever you visit us.\n",
            "Praying for my Bangladeshi Bengali Brothers 🙌🏻\n",
            "Love from West Bengal 🇮🇳\n",
            "We,Muslim students will make sure none(Chatro league) attacks our Hindu brothers✊\n",
            "We have already made groups to protect them pray for us...\n",
            "Dear DESHBHAKT Team, we will never forget how important this video was during the student protest. You did actually what all of our TV channels couldn't do. Hats off to the team for collecting and publishing the exact, clarified, and neutral piece of information. 💌\n",
            "Free Bangladesh 🥰🇧🇩✊💟\n",
            "I am a Hindu from Bangladesh .I was present in that war against government .I can say our Muslim brothers are trying their best to save the Hindus . They ar even guarding our temples ,protecting our houses .\n",
            "First Comment from Azad Bangladesh 🇧🇩🇮🇳❤\n",
            "Bangladesh will never forget your contribution, Akash! You will forever be remembered in the history of Independent Bangladesh. Thank you for covering the major aspects of the events and standing with the students of Bangladesh.\r\n",
            "\r\n",
            "For those who may not know, Akash is also Bengali and speaks fluent Bangla. We, the people of Bangladesh, will warmly welcome you wheneve\n",
            "All Bangladeshi students will never forget you, Deshbhakt. We salute you with immense respect and admiration. Your true voice and unwavering spirit inspire us deeply. With profound love and gratitude, from all Bangladeshi students.\n",
            "I live in a Gulf country. Today, people from Bangladesh at my company were distributing sweets; they were all very happy.\n",
            "সুপ্রিয় আকাশ, ভীষণ সুন্দর প্রস্তাবনা। আশা করি বাংলাদেশের মানুষ এবার সত্যিকারের গণতন্ত্র দেশ বানাবে। \n",
            "আমার আন্তরিক শুভেচ্ছা ও ভালোবাসা নেবেন আপনি ও আপনার টিমের সদস্যদের জন্য। 🤗😍\n",
            "Thanks bro. You talk about us when no one there.. Lova u bro❤From Bangladesh 🇧🇩🇧🇩❤️‍🔥\n",
            "For Minority;  Student and local are coming forward to help them.. 🇧🇩\n",
            "Thanks for keeping update about Bangladesh's information such a beautiful way...\n",
            "Please also note students are encouraging to reruns the item taken From Hasina's house.\n",
            "Can't thank you enough for your support amidst all the chaos, we students from Bangladesh will make sure that no bloodshed occurs, and will not allow wrongdoers to create further chaos. We would really appreciate it if you ever visit our country. Hats off man.\n",
            "Its our 2nd Victory Day....we feel the real taste of Freedom.. Thanks Akash Banerjee 🎉🎉\n",
            "❤From Bangladesh.😊\n",
            "दलित दलित करने वाली जातिवादी कांग्रेस,ध्रुव राठी जैसे  बांग्लादेश में दलितों पर अत्याचार पर नही बोल रहे क्योकि मुस्लिम वोट बैंक नाराज हो जाएगा।\n",
            "কমেন্ট খুব একটা করিনা কিন্তু আজ লিখতে ইচ্ছে হলো। কেনো জানি না মনে হচ্ছে আপনাকে আজীবন  মনে থাকবে। যেহেতু এই ক্রুশাল টাইমটা আজীবন  সাথে থাকবে, আপনিও থাকবেন। উৎকন্ঠা যেনো শেষই হতে চায় না। সৃষ্টিকর্তা  যেহেতু এত দূরে এনেছেন ইনশাল্লাহ শেষ হাসি হাসবে বাংলা।  অপ্রত্যাশিত বেশি কিছু দিয়েছেন আপনি আমাদের।  ভালো থাকবেন...\n",
            "I m from 🇵🇰 .... According to my point of view... Bangladeshi people know that very well ..how to give  blood and sacrifices for their land.. ..they r lively nation...... I hope that their army will be handover the power to democratic government as soon as possible.....  My country was broken ..and huge other losses because of army  dictator ship ... We r praying for our brother....😢😢 🇵🇰\n",
            "You covered the whole protest from beginning to Hasina fleeing the country so well in these 3 parts! Thank you so much! We can show them to our future generation to explain what really happened in these two months.\n",
            "Save Bangladeshi Hindu 👍\n",
            "#savebangladeshihindus\n",
            "Thanks brother help your videos ❤\n",
            "yes bro I am very very thank you so much you first youtuber another country supporting for Bangladesh student ❤❤❤\n",
            "Now they will start coming to India\n",
            "#savebangladeshihindus\n",
            "This Hasina gave a mass grave in the field behind the parliament building😢😢😢\n",
            "This channel will be remembered till end… when no one was around this channel stood beside us\n",
            "the army general is also a relative of Sheikh hasina Bangladesh is still not independent\n",
            "​​ @mfc00ld0wn5  tell him, ruling party militants and indian raw arsoned your temple\n",
            "Huge respect sir for covering authentic news till achieving our victory.\n",
            "Already watched all part\n",
            "Worst days for Bangladeshi Hindus have just begun. Jamaat e Islam and its party BNP have started attacking Hindus. Hashina was atleast secular and minorities were safe. Now army and jamaat gonna take country for ride. Wait and watch\n",
            "I’m your biggest fan I wanna meet you sir\n",
            "Huge respect for, the deshvakt .. thanks 🙏\n",
            "Bahut keh Raha tha dictator fictator dekh ab army aur BNP jamaat e isslami Kya karti Hain desh aur minorities ke saath ... Aandolan jivi !!!\n",
            " @thedeshbhakt  its not 1000...its 2000+ students  died..\n",
            " @thedeshbhakt  Muslims are now attacking hindus.. One of my college junior is so much terrified.. She closed all the doors, windows with heavy things.. Make videos in this topic, if u have the courage\n",
            "​. Dhakar rastai inqlub jindabaad er misil hosse.... \n",
            "\n",
            "Is this fteedom?\n",
            "EID MUBARAK\n",
            " @thedeshbhakt  #saveBangladeshiHindus\n",
            "Now they are attacking bangladeshi Hindus \n",
            "Please save us 😭🙏🙏\n",
            "This is not the end of Awami League \n",
            "However, it is the end of sheikh family\n",
            "#savebangladeshhindus\n",
            "Your video is very informative and  honesty, you are best good man in India\n",
            "@thedeshbhakt  thank you brother u best took\n",
            "India,that is bharat .\n",
            "#save_Bangladeshi_Hindu\n",
            "#SaveBangladeshiHindus\n",
            " #save_Bangladeshi_Hindu\n",
            "#savebangladeshihindustemple \n",
            "#save_Bangladeshi_Hindu\n",
            "#savebangladeshihindusproperty \n",
            "#save_Bangladeshi_Hindu\n",
            "#SaveBangladeshiHindus\n",
            "#save_Bangladeshi_Hindu\n",
            "#SaveBangladeshiHinduTamples\n",
            "​ @mfc00ld0wn5 Are you Bangladeshi? And what is the problem of Bangladeshi Hindus?\n",
            "Save Bangladeshi Hindu\n",
            " @abdullahalzarifkhan  By whom, is it happening? Who is responsible for protecting Hindus?\n",
            "Bro this is making of military dictatorship\n",
            "Making of military dictatorship\n",
            "We the students of Bangladesh will never forget you 😢,, Thanks a lot\n",
            "Please one language \n",
            "Only hindi and English\n",
            "#savebangladeshihindu\n",
            "But the quota system was re-introduced by High Court. So, was there any hand of Sheikh Hasina in this?\n",
            "Currently Army took advantage of protest and military coup occurred. There may be worse future in Bangladesh because of the coup.\n",
            "Thank you so much\n",
            " @cinefile0075  yeahh bro.. One of my college junior is so terrified now.. They are attacking hindus now.. She closed the doors, windows with heavy objects..\n",
            " @thedeshbhakt  #SaveHindusInBangladesh\n",
            "#SaveBangladeshiHindus\n",
            "#SaveHinduTemples\n",
            "#SaveHinduBoys\n",
            "#SaveHinduGirls\n",
            "#SaveHindus\n",
            "#alleyesonhindus\n",
            "#Alleyesonbangladeshihindu\n",
            " @SusmitaTalukder-cw1yj  be safe sister.. One of my college junior is also so much terrified.. She closed and blocked the door with heavy objects..\n",
            "why middle finger in tshirt\n",
            "Thanks brother from Bangladesh\n",
            "#savebangladeshihindu\n",
            "it's 36th July brother\n",
            " @thedeshbhakt  bhai make a video about propaganda created by hasina party now in Bangladesh  about dividing Bangladeshi people through religion dividing.\n",
            "Some❌❌❌ politicals are taking advantage of time of making internal govt. To start hindu-muslim conflict.. \n",
            "\n",
            "But students stand again..make small team..and guarding hindu prayer hall\n",
            "Sir, Twist for you (A part of army support shoot chatra league at mirpur -10)\n",
            "game changed\n",
            "Thanks for support\n",
            "​ @mfc00ld0wn5 \n",
            "😁😁😁 politics. \n",
            "they are very happy more than you, Bangladeshi Hindu and Muslim both of  brother, your politician try to disturb this\n",
            "#savebangladeshihindus\n",
            "#savebangladeshihindus\n",
            "#savebangladeshihindus\n",
            "@thedeshbhakt don't you think it's a irony. India fought for the independence of Bangladesh and now giving refuge to the person who is bringing it to a dictatorship?\n",
            "#savebangladeshihindus\n",
            "#savebangladeshihindus\n",
            "#savebangladeshihindus\n",
            "This was an external influence the student and the people of Bangladesh didn't get into revolution. They were neither Marxist hopping for communism. It was just short term influence by external power that made Bangladesh military it's supreme power. Once the country is not governed by its people. You know what the status of the country is. \n",
            "This is not about democracy but our vested interest is at risk we are now surrounded by hostile neighbours.\n",
            "What about Bangladeshi Hindus who are getting murdered now such as iskon chief\n",
            "yes Desh bhakt,,,, dictator has fallen,,,needs to be under trial for looting and killing ppl\n",
            "#savebangladeshihindus\n",
            "​ @mfc00ld0wn5 As a Bangladeshi student I say that ensuring the safety of any minority is our main responsibility now. \n",
            "\" দেশ যেমন কারোর বাপের না, \n",
            "তেমনি দেশ কোনো নির্দিষ্ট ধর্মের না \"\n",
            "The future of Bangladesh is quite dark. We must understand that democracy, democratic rights, and the formation of a democratic system can not come overnight. It requires continuous mentoring of the people, it also requires ensuring that they all can participate, express and protest. Fortunately, against all odds, the people of India are fortunate enough that we were able to practice those, at least our constitution provides that right to practice them. That is the reason we can point out the discrimination, exploitation, oppression etc. This is because at least we know what is right and what is wrong. Unfortunately, that is not the case in Pakistan or Bangladesh. The biggest issue with them is that they are not secular countries, and if a country is not secular its democracy can't be stable. These student leaders are already separated into different ideologies and regional, religious as well as ethnic identities. They can not form a cohesive structure to reshape the nation. Till now they have one agenda and one opposition so that was the catalyst for their unity. Now in the changed circumstances, they will be controlled and ruled by others. We know who are they.\n",
            "Dictator Hasina gone and Democratic army comes😂\n",
            "Thank you so much bro, will never forget your contribution 🇧🇩🇧🇩🇧🇩🇧🇩🇧🇩\n",
            "#savehindus #savehindusinbd #savebdhindus 🙏 #protecthindus #protecthindusinbangladesh #protecthindusinbd #protectbdhindus🙏🙏🙏🙏\n",
            "#savehindus #savehindusinbd #savebdhindus 🙏 #protecthindus #protecthindusinbangladesh #protecthindusinbd #protectbdhindus🙏🙏🙏🙏\n",
            "#savehindus #savehindusinbd #savebdhindus 🙏 #protecthindus #protecthindusinbangladesh #protecthindusinbd #protectbdhindus🙏🙏🙏🙏\n",
            "#savehindus #savehindusinbd #savebdhindus 🙏 #protecthindus #protecthindusinbangladesh #protecthindusinbd #protectbdhindus🙏🙏🙏🙏\n",
            "#savehindus #savehindusinbd #savebdhindus 🙏 #protecthindus #protecthindusinbangladesh #protecthindusinbd #protectbdhindus🙏🙏🙏🙏\n",
            "#SaveBangladeshHindus\n",
            "#SaveHindusTemple\n",
            "#UnitedNations\n",
            "#unitedkingdom\n",
            "#indiangovernment\n",
            "#worldwide\n",
            "#worldhinduism\n",
            "#worldhinducomunity\n",
            "#NarendraModi\n",
            "#YogiAdityanath\n",
            "#RishiSunak\n",
            "#ranveerallahbadia\n",
            "#Swamipurnachaitanya\n",
            "#worldisckon\n",
            "#isckonamerica\n",
            "#Africanisckon\n",
            "#SaveBangladeshHindus\n",
            "#SaveHindusTemple\n",
            "#UnitedNations\n",
            "#unitedkingdom\n",
            "#indiangovernment\n",
            "#worldwide\n",
            "#worldhinduism\n",
            "#worldhinducomunity\n",
            "#NarendraModi\n",
            "#YogiAdityanath\n",
            "#RishiSunak\n",
            "#ranveerallahbadia\n",
            "#Swamipurnachaitanya\n",
            "#worldisckon\n",
            "#isckonamerica\n",
            "#Africanisckon\n",
            "#SaveBangladeshHindus\n",
            "#SaveHindusTemple\n",
            "#UnitedNations\n",
            "#unitedkingdom\n",
            "#indiangovernment\n",
            "#worldwide\n",
            "#worldhinduism\n",
            "#worldhinducomunity\n",
            "#NarendraModi\n",
            "#YogiAdityanath\n",
            "#RishiSunak\n",
            "#ranveerallahbadia\n",
            "#Swamipurnachaitanya\n",
            "#worldisckon\n",
            "#isckonamerica\n",
            "#Africanisckon\n",
            "#SaveBangladeshHindus\n",
            "#SaveHindusTemple\n",
            "#UnitedNations\n",
            "#unitedkingdom\n",
            "#indiangovernment\n",
            "#worldwide\n",
            "#worldhinduism\n",
            "#worldhinducomunity\n",
            "#NarendraModi\n",
            "#YogiAdityanath\n",
            "#RishiSunak\n",
            "#ranveerallahbadia\n",
            "#Swamipurnachaitanya\n",
            "#worldisckon\n",
            "#isckonamerica\n",
            "#Africanisckon\n",
            "#SaveBangladeshHindus\n",
            "#SaveHindusTemple\n",
            "#UnitedNations\n",
            "#unitedkingdom\n",
            "#indiangovernment\n",
            "#worldwide\n",
            "#worldhinduism\n",
            "#worldhinducomunity\n",
            "#NarendraModi\n",
            "#YogiAdityanath\n",
            "#RishiSunak\n",
            "#ranveerallahbadia\n",
            "#Swamipurnachaitanya\n",
            "#worldisckon\n",
            "#isckonamerica\n",
            "#Africanisckon\n",
            "#SaveBangladeshHindus\n",
            "#SaveHindusTemple\n",
            "#UnitedNations\n",
            "#unitedkingdom\n",
            "#indiangovernment\n",
            "#worldwide\n",
            "#worldhinduism\n",
            "#worldhinducomunity\n",
            "#NarendraModi\n",
            "#YogiAdityanath\n",
            "#RishiSunak\n",
            "#ranveerallahbadia\n",
            "#Swamipurnachaitanya\n",
            "#worldisckon\n",
            "#isckonamerica\n",
            "#Africanisckon\n",
            "#SaveBangladeshHindus\n",
            "#SaveHindusTemple\n",
            "#UnitedNations\n",
            "#unitedkingdom\n",
            "#indiangovernment\n",
            "#worldwide\n",
            "#worldhinduism\n",
            "#worldhinducomunity\n",
            "#NarendraModi\n",
            "#YogiAdityanath\n",
            "#RishiSunak\n",
            "#ranveerallahbadia\n",
            "#Swamipurnachaitanya\n",
            "#worldisckon\n",
            "#isckonamerica\n",
            "#Africanisckon\n",
            "#SaveBangladeshHindus\n",
            "#SaveHindusTemple\n",
            "#UnitedNations\n",
            "#unitedkingdom\n",
            "#indiangovernment\n",
            "#worldwide\n",
            "#worldhinduism\n",
            "#worldhinducomunity\n",
            "#NarendraModi\n",
            "#YogiAdityanath\n",
            "#RishiSunak\n",
            "#ranveerallahbadia\n",
            "#Swamipurnachaitanya\n",
            "#worldisckon\n",
            "#isckonamerica\n",
            "#Africanisckon\n",
            "#SaveBangladeshHindus\n",
            "#SaveHindusTemple\n",
            "#UnitedNations\n",
            "#unitedkingdom\n",
            "#indiangovernment\n",
            "#worldwide\n",
            "#worldhinduism\n",
            "#worldhinducomunity\n",
            "#NarendraModi\n",
            "#YogiAdityanath\n",
            "#RishiSunak\n",
            "#ranveerallahbadia\n",
            "#Swamipurnachaitanya\n",
            "#worldisckon\n",
            "#isckonamerica\n",
            "#Africanisckon\n",
            "From his video now i am sure he is same as samajwadi party members like moeed khan\n",
            "Broadcast bill really is mandatory\n",
            "Hindus will unite this time\n"
          ]
        }
      ]
    },
    {
      "cell_type": "code",
      "source": [
        "# New"
      ],
      "metadata": {
        "id": "QIX1DFPt9GC5"
      },
      "execution_count": null,
      "outputs": []
    },
    {
      "cell_type": "markdown",
      "source": [
        "#Using direct API call"
      ],
      "metadata": {
        "id": "IkEsDt_99Ikh"
      }
    },
    {
      "cell_type": "code",
      "source": [
        "YOUTUBE_API = \"\""
      ],
      "metadata": {
        "id": "kssEy4EG9JgS"
      },
      "execution_count": null,
      "outputs": []
    },
    {
      "cell_type": "code",
      "source": [
        "from googleapiclient.discovery import build"
      ],
      "metadata": {
        "id": "9XXJ_6JDA4c_"
      },
      "execution_count": null,
      "outputs": []
    },
    {
      "cell_type": "code",
      "source": [
        "def video_comments(video_id):\n",
        "\t# empty list for storing reply\n",
        "\treplies = []\n",
        "\n",
        "\t# creating youtube resource object\n",
        "\tyoutube = build('youtube', 'v3', developerKey=YOUTUBE_API)\n",
        "\n",
        "\t# retrieve youtube video results\n",
        "\tvideo_response=youtube.commentThreads().list(\n",
        "\tpart='snippet,replies',\n",
        "\tvideoId=video_id\n",
        "\t).execute()\n",
        "\n",
        "\t# iterate video response\n",
        "\twhile video_response:\n",
        "\n",
        "\t\t# extracting required info from each result object\n",
        "\t\tfor item in video_response['items']:\n",
        "\n",
        "\t\t\t# Extracting comments\n",
        "\t\t\tcomment = item['snippet']['topLevelComment']['snippet']['textDisplay']\n",
        "\n",
        "\t\t\t# counting number of reply of comment\n",
        "\t\t\treplycount = item['snippet']['totalReplyCount']\n",
        "\n",
        "\t\t\t# if reply is there\n",
        "\t\t\tif replycount>0:\n",
        "\n",
        "\t\t\t\t# iterate through all reply\n",
        "\t\t\t\tfor reply in item['replies']['comments']:\n",
        "\n",
        "\t\t\t\t\t# Extract reply\n",
        "\t\t\t\t\treply = reply['snippet']['textDisplay']\n",
        "\n",
        "\t\t\t\t\t# Store reply is list\n",
        "\t\t\t\t\treplies.append(reply)\n",
        "\n",
        "\t\t\t# print comment with list of reply\n",
        "\t\t\tprint(comment, replies, end = '\\n\\n')\n",
        "\n",
        "\t\t\t# empty reply list\n",
        "\t\t\treplies = []\n",
        "\n",
        "\t\t# Again repeat\n",
        "\t\tif 'nextPageToken' in video_response:\n",
        "\t\t\tvideo_response = youtube.commentThreads().list(\n",
        "\t\t\t\t\tpart = 'snippet,replies',\n",
        "\t\t\t\t\tvideoId = video_id,\n",
        "\t\t\t\t\tpageToken = video_response['nextPageToken']\n",
        "\t\t\t\t).execute()\n",
        "\t\telse:\n",
        "\t\t\tbreak"
      ],
      "metadata": {
        "id": "WscoLRuC9ONt"
      },
      "execution_count": null,
      "outputs": []
    },
    {
      "cell_type": "code",
      "source": [
        "video_id = \"FeKgROrG5Ew\"\n",
        "video_comments(video_id)\n"
      ],
      "metadata": {
        "colab": {
          "base_uri": "https://localhost:8080/"
        },
        "id": "htWvrmFWBViQ",
        "outputId": "205a2215-e6e5-468b-8bb7-3324ba3ba6c8"
      },
      "execution_count": null,
      "outputs": [
        {
          "output_type": "stream",
          "name": "stdout",
          "text": [
            "আলহামদুলিল্লাহ, সারজিদ ভাইকে অসংখ্য ধন্যবাদ []\n",
            "\n",
            "সকল খুনির সর্বোচ্চ শাশ্তি দাবী করছি। []\n",
            "\n",
            "সকল শহীদদের জন্য আমাদের শ্রদ্ধা এবং ভালোবাসা আজীবন থাকবে ইনশাআল্লাহ []\n",
            "\n",
            "আলহামদুলিল্লাহ, সারজিদ ভাইকে অসংখ্য ধন্যবাদ []\n",
            "\n",
            "এগুলা  সব বলার জন্য। জাতীয় পার্টির নিজেরাই এগুলা করে নিজেদের মূল্য বাড়াতে চাচ্ছে []\n",
            "\n",
            "জাতীয় পার্টির নিজেরা এগুলা করে নিজেদের মূল্য বাড়াতে চাচ্ছে। এগুলা ওদের চালাকি। []\n",
            "\n",
            "সমন্বয় এত প্রয়োজন নেই এখন দ্রুত নির্বাচন দেওয়া উচিত []\n",
            "\n",
            "সবচেয়ে বড় রাজাকার []\n",
            "\n",
            "Idian Dalal M foqrul  is active now to grasp the power and start lotting of state wealth as before just to make up last 15 years of hunger to steal the wealth of the country. []\n",
            "\n",
            "হাসিনার আমলের সকল নিয়োগ বাতিল না করলে দুর্নীতি বন্ধ হবে না []\n",
            "\n",
            "জাতীয় পার্টির অফিস ভেঙে একদম ঠিক কাজ করছে, []\n",
            "\n",
            "দেশের মানুষ এক হও জাতীয় পার্টি আর আওয়ামীলিগ কে ধ্বংস করে দাও নয়তো দেশ হারাই ফেলবে,দেশ ধ্বংস করে ফেলবে, []\n",
            "\n",
            "gono httar daye jarai  jorito  tader  oti sottor ainer awatay  ene bichar kajokor kora dorkar []\n",
            "\n",
            "নিহত এবং আহতদের এক কোটি টাকা করে দেওয়া হোক। []\n",
            "\n",
            "আগের সরকারের আমলে আন্দোলন করলেন না কেন। []\n",
            "\n",
            "জাতীয় পার্টি ছিল, আছে, থাকবে, তাদের ৯ বছর শাসন আমল ছিলো উন্নয়ন এর সরকার।<br>ধন্যবাদ জনাব মির্জা ফখরুল ইসলাম ও রহুল কবির রিজভী সাহেব&#39;কে সুন্দর মতামত দেওয়ার জন্য। []\n",
            "\n",
            "সারজিস সাহেব, এক মিনিট নিরব থাকলে কি হয় ? []\n",
            "\n",
            "দেশে সাধারন মানুষের জন্য কি করছেন সবার আগে নৃত্য পূর্ণর দাম কমলে সাধারন মানুষ বাচবে []\n",
            "\n",
            "ডলার যা পাচার হয়েছে দেশ তো ভালোই চলতো []\n",
            "\n",
            "অসহায় মানুষের বাতা বন্ধ করে এখন নাটক সাজায় []\n",
            "\n",
            "পুলিশ হত্যা বিচার কবে হবে দেশের জনগণ জানতে চায়, []\n",
            "\n",
            "সরকার পতনের সাথে বৈষম্য বিরুধী সমন্নয়ক দের কোন ভুমিকা নেই,তাদের পিছন হতে ধাক্কা দেওয়া হয়ছে, তদের দাবি হলো কোটা এবং সরকার পতন নয়,তারা এখন সরকার পতনের ফায়দা লুটতেছে,,, এদিকে যারা এই আন্দোলনে মারা গেছে তাদের কে সমন্নয়ক গন পুঁজি করে নিচ্ছে,,,আবার তাদের পরিবার তাদের ছেলে মেয়ের মৃত্যু লাশ যেন বিক্রি করছে, বিনিময়ে অর্থ সংগ্রহে সমর্থ  দিচ্ছে,,,তারা মারা গেছে আল্লাহ তাদের সফলতা দান করুন,তাদের দেশবাসি মনে রাখবে,,,কোন কিছুর বিনিময় হলে ঐটা আর দেশের থাকেনা,,,সূতরাং বিনিময় নিয়ে পরিবার গুলো তাদের সম্মান নষ্ট  করছে,,,এবং তারা তাদের লাশের মাংস বিক্রির পর্যায়ে নিয়ে যাচ্ছে,,,<br>আবার সংস্কার নামের নাটক করছেন উপদেষ্টা  গন,,,সাথে পুঁজি হল ছাত্র ছাত্রী,,, সংস্কার রাজনৈতিক দল ব্যতিত সম্ভবও না,গ্রহণীয়ও নয়, কিছু ভুল লিখে থাকলে ক্ষমা প্রার্থী,,, যুক্তিগত মনে হল তাই লিখলাম,,, []\n",
            "\n",
            "এই সাংবাদিক ভাই  আপনি কি বুঝেন না?সংখ্যালঘূ শব্দটা যমুনা টিভি সমর্থন করে না।আপনি কোন টিভিতে কাজ করছেন?আপনার শন্দচয়নে আওয়ামী ডিকশনারি ভাষা।পরিবর্তন করেন এটা ৭২ না। []\n",
            "\n",
            "৮ দফা আলালের দাদার দেশে পাঠানো হোক <br>সেখানে সব ধরনের দফা দাবি মেনে নেবে []\n",
            "\n",
            "আওয়ামীলীগ আর ইন্ডিয়ার অর্থায়নে হিন্দু সংঘটন গুলোর মাধ্যমে দেশে অস্থিতিশীল পরিস্থিতি সৃষ্টি করতেছে। <br><b>বিএনপি আর জামায়াত কে বলবো কঠোর অবস্থান করেন।</b><br>নাহয় সময় গেলে পরে পস্তাবেন । সরকারের সব কাজে একাত্মতা প্রকাশ করুন এবং সহায়তা করুন। পাশাপাশি এলাকা ভিত্তিক আপনাদের নেতাদের চাঁদা আদায় ও দখল বাণিজ্য বন্ধে সাংগঠনিকভাবে ব্যাবস্থা গ্রহন করেন। []\n",
            "\n",
            "গণতন্ত্র মানে মিছে মিছে শহীদ হওয়া []\n",
            "\n",
            "দারুণ খবর []\n",
            "\n",
            "আকাটারা ১৭বছর কোথায় ছিলো []\n",
            "\n",
            "if BPB cometo Rule - THen BD will become BS - this time it will be looted by Tarik Rahman []\n",
            "\n",
            "বি এন পি এলে সব ঠিক হয়ে যাবে []\n",
            "\n",
            "❤shoiracher doshor obosshi ainer awtai ana abosshok []\n",
            "\n",
            "জাতীয় পার্টি শেখ হাসিনার সাথে অনেক লুটপাট করেছি ষোলটা বছর আমরা কিছুই বলতে পারিনি তাদের কাছে ছিল ডাকাত বাহিনী পুলিশ আর এখন জাতীয় পার্টি দালাল ডা বলতেছে ছাত্ররা লুটপাত করতাছে কিন্তু না লুটপাট তোমরা করেছে এটা আমরা রুখে দাড়াইছি []\n",
            "\n",
            "ISKON KE KENO NISSIDDO KORA HOBE NA? []\n",
            "\n",
            "সৌদি প্রবাসিদের এম আর পি পাচপোটের নবায়ন বিলম্বনা নিয়ে জরুরী প্রতিবেদন এর দাবি জানাচ্ছি যমুনা টিভিকে []\n",
            "\n",
            "মাননীয় প্রধানমন্ত্রী শেখ হাসিনা দেশের উন্নয়নের নেত্রী যারা বলে শেখ হাসিনা বাইরে টাকা পাঠিয়েছে তারা একটু ভাবিয়ে কথা বলা উচিত শেখ হাসিনার আমলে বাংলাদেশ কোথায় গিয়েছে এটা সাধারণ জনগণের বুঝে আর যারা এত মেধাবী কথা বলে তারা তো জনগণের চুরি করেছে  দেশটাকে আগুন  লুটপাট করে []\n",
            "\n",
            "রিজভী আওয়ামী লীগের দালালি শুরু করেছে। আওয়ামী লীগের কোন নেতা টা নিরীহ ছিল আমরা তো চিনি না। []\n",
            "\n",
            "নাপিত এর হোল কাট []\n",
            "\n",
            "আসসালামু ওয়ালাইকুম না বলে শুভেচ্ছা স্বাগতম কেন বলা হয়???? []\n",
            "\n",
            "হাসনাত আব্দুল্লাহ কে ধন্যবাদ বাংলাদেশে জাতীয় পার্টিকে নিষিদ্ধ করা হোক []\n",
            "\n",
            "জাতীয় পার্টি নিষিদ্ধ করা হোক []\n",
            "\n",
            "❤❤❤❤❤ []\n",
            "\n",
            "এখন পুলিশ কার গোলাম খুলনা প্রেসক্লাবের সাথেই পুলিশ থাকাকালীন কেমনে এরা আগুন দিল ভাঙচুর করল এইগুলা মানবতা অধিকারের লঙ্ঘননা না []\n",
            "\n",
            "হিন্দুদের আট দফা দাবি বাস্তব বায়ন চাই []\n",
            "\n",
            "সংখ্যা লগুরা দেশে বিসৃংকলা তৈরির চেষটা করছে !!!!!!!! []\n",
            "\n",
            "জাতীয় পার্টিকে নিষিদ্ধ করা হোক []\n",
            "\n",
            "Trump is verry verry Mad Black.not he is Rights president, he is mad, not Support Trump hes big Mad. []\n",
            "\n",
            "ভূয়া মুক্তি যোদ্ধা আর নয় বাংলা দেশে, []\n",
            "\n",
            "আলহামদুলিল্লাহ []\n",
            "\n",
            "আর যেনও কোনও মুক্তি যোদ্ধা দের বাতা না দেওয়া হয় সেই বাতা গুলো বর্তমান জুলাই আগস্ট এর শহীদ পরিবার কে দেওয়া হোক আজীবন 🙏, সূখী হোক বাংলা দেশ শহীদ পরিবার 🤲 []\n",
            "\n",
            "মানবতা বিরোধী অপরাধ ট্রাইবুনালের মতো বাংলাদেশে নতুন করে দুর্নীতি বিরোধী ট্রাইবুনাল গঠন করতে হবে বর্তমানে যারা  দুর্নীতির সাথে যুক্ত থাকবে ভবিষ্যতে ওই ট্রাইবুনালে তাদের বিচার হবে। []\n",
            "\n",
            "ভারতে আলাদা মন্ত্রণালয় তৈরি করা হোক বাংলাদেশ অস্থিতিশীল পরিবেশ তৈরীর জন্য করার জন্য সংখ্যালঘু ইস্যুটাকে ব্যবহার করা হচ্ছে []\n",
            "\n",
            "বাংলার জনগণ খুনিদের বিচার  দেখতে চায়। []\n",
            "\n",
            "দালালি বাদ দে শেখ হাসিনার সরকার এখনো ['কবে সরকার ছিল???', 'Lol']\n",
            "\n",
            "ছি ছি ছি বাংলাদেশের ভন্ড রাজনীতি<br>দূর্নীতি ছাড়া আর কিছু বুঝে না ক্ষমতায় থাকারান []\n",
            "\n",
            "হাজার সালাম জানাই সাজিস আলম ভাইকে []\n",
            "\n",
            "জাতীয় পার্টি কে নিষিদ্ধ করা হোক []\n",
            "\n",
            "আর্থিক সাহায্য দেন ঠিক আছে কিন্তু আমরা আমার ভাইয়ের খুনির বিচার চাই []\n",
            "\n",
            "❤❤❤ []\n",
            "\n",
            "দ্বায়িত্ব বা অবস্থান যখন মহান স্রষ্টার গোলামী ও প্রতিনিধিত্ব। সম্পর্ক, শুভকামনা, ভালো জানা তখন সবার সাথে আর সুসম্পর্ক ও মহব্বত সত্য সুন্দর কল্যাণ মঙ্গলের চর্চা ও মান্যতায় এবং সত্য প্রজ্ঞা ও স্বজ্ঞা সম্পন্ন মানুষের প্রতি আদব ইজ্জত মহব্বত মান্যতা ও আনুগত্যে !!!!! []\n",
            "\n",
            "নিশ্চয় যারা মারা গিয়েছে <br>তারা ফায়দা লুটতে গিয়ে মারা গেছে <br><br>ইসলাম তাদেরকে শহীদের বৈধতা দেয় না,,,,, []\n",
            "\n",
            "জুলুম নির্যাতন অন্যায়কে রুখে দিতে, হিংস্রতা ও শয়তানি বা অপকৌশলকে কোণঠাসা বিতাড়িত নির্মূল বধ করতে যা করণীয় সেটা করে চলা অধর্ম বা অশান্তি নহে। এক্ষেত্রে মূখ্য ভূমিকা রাখতে সক্ষম আইন শাসন বিচার ও পরিচালনা। তবে এনারা যদি জনবান্ধব না হয় এবং সত্য সুন্দর কল্যাণ মঙ্গলের পক্ষে কাজ না করে পক্ষপাতিত্ব করে সাথে সাথে হীনস্বার্থ অর্থ সম্পদ শক্তি ক্ষমতা পদ পদবির কাছে বিকিয়ে যায়, তবে দেশ মানুষ সমাজ ও জাতিতে নৃশংসতা বর্বরতা দাঙ্গা ফেসাদ কেউ থামায়ে পারবে না !!!!!!! শাঁই শাঁই শাঁই []\n",
            "\n",
            "তারা কি ইসলামের জন্য শহীদ হয়েছে <br><br>যারা চাকরির জন্য রাজনীতিক ফায়দা লুটলো তারা কিভাবে শহীদ হয় আশ্চর্য দেশে বসবাস করি ['আরো পডালেখা করো মিয়া']\n",
            "\n",
            "ভারতে মুসলমান দের কথা বলার অধিকার নেই  ভাবির মসজিদ ভেঙ্গে ফেলেছে  আর কত বড় সাহস বাংলাদেশে আলাদা করে  মন্রনালয় করতে হবে কেন তাদের সম্মান  কি কম দেই এটি লীগের দল  হিন্দুদের  কথা না []\n",
            "\n",
            "❤ []\n",
            "\n",
            "Fain []\n",
            "\n",
            "Fast comment😂😂 []\n",
            "\n"
          ]
        }
      ]
    },
    {
      "cell_type": "code",
      "source": [],
      "metadata": {
        "id": "9Y8p7L6gB8p_"
      },
      "execution_count": null,
      "outputs": []
    },
    {
      "cell_type": "markdown",
      "source": [
        "## Save into CSV"
      ],
      "metadata": {
        "id": "Rga3t11KCUjs"
      }
    },
    {
      "cell_type": "code",
      "source": [
        "from googleapiclient.discovery import build\n",
        "import pandas as pd\n",
        "from time import sleep\n",
        "import traceback"
      ],
      "metadata": {
        "id": "OGuAaDsgBghO"
      },
      "execution_count": null,
      "outputs": []
    },
    {
      "cell_type": "code",
      "source": [
        "def get_comments(api_key, video_id):\n",
        "    youtube = build('youtube', 'v3', developerKey=api_key)\n",
        "\n",
        "    request = youtube.commentThreads().list(\n",
        "        part=\"snippet,replies\",\n",
        "        videoId=video_id,\n",
        "        textFormat=\"plainText\"\n",
        "    )\n",
        "\n",
        "    df = pd.DataFrame(columns=['comment', 'replies', 'date', 'user_name'])\n",
        "\n",
        "    while request:\n",
        "        replies = []\n",
        "        comments = []\n",
        "        dates = []\n",
        "        user_names = []\n",
        "\n",
        "        try:\n",
        "            response = request.execute()\n",
        "\n",
        "            for item in response['items']:\n",
        "                # Extracting comments\n",
        "                comment = item['snippet']['topLevelComment']['snippet']['textDisplay']\n",
        "                comments.append(comment)\n",
        "\n",
        "                user_name = item['snippet']['topLevelComment']['snippet']['authorDisplayName']\n",
        "                user_names.append(user_name)\n",
        "\n",
        "                date = item['snippet']['topLevelComment']['snippet']['publishedAt']\n",
        "                dates.append(date)\n",
        "\n",
        "                # counting number of reply of comment\n",
        "                replycount = item['snippet']['totalReplyCount']\n",
        "\n",
        "                # if reply is there\n",
        "                if replycount > 0:\n",
        "                    # append empty list to replies\n",
        "                    replies.append([])\n",
        "                    # iterate through all reply\n",
        "                    for reply in item['replies']['comments']:\n",
        "                        # Extract reply\n",
        "                        reply = reply['snippet']['textDisplay']\n",
        "                        # append reply to last element of replies\n",
        "                        replies[-1].append(reply)\n",
        "                else:\n",
        "                    replies.append([])\n",
        "\n",
        "            # create new dataframe\n",
        "            df2 = pd.DataFrame({\"comment\": comments, \"replies\": replies, \"user_name\": user_names, \"date\": dates})\n",
        "            df = pd.concat([df, df2], ignore_index=True)\n",
        "            df.to_csv(f\"{video_id}_user_comments.csv\", index=False, encoding='utf-8')\n",
        "            sleep(2)\n",
        "            request = youtube.commentThreads().list_next(request, response)\n",
        "            print(\"Iterating through next page\")\n",
        "        except Exception as e:\n",
        "            print(str(e))\n",
        "            print(traceback.format_exc())\n",
        "            print(\"Sleeping for 10 seconds\")\n",
        "            sleep(10)\n",
        "            df.to_csv(f\"{video_id}_user_comments.csv\", index=False, encoding='utf-8')\n",
        "            break"
      ],
      "metadata": {
        "id": "gendXPvKCfzx"
      },
      "execution_count": null,
      "outputs": []
    },
    {
      "cell_type": "code",
      "source": [
        "def main():\n",
        "    video_id = \"FeKgROrG5Ew\"\n",
        "    get_comments(YOUTUBE_API, video_id)"
      ],
      "metadata": {
        "id": "GjyNqgMoCia0"
      },
      "execution_count": null,
      "outputs": []
    },
    {
      "cell_type": "code",
      "source": [
        "if __name__ == \"__main__\":\n",
        "    main()"
      ],
      "metadata": {
        "colab": {
          "base_uri": "https://localhost:8080/"
        },
        "id": "5Ojokg4yCj8E",
        "outputId": "1e622e67-af53-4876-b8e3-1c67fa584a87"
      },
      "execution_count": null,
      "outputs": [
        {
          "output_type": "stream",
          "name": "stdout",
          "text": [
            "Iterating through next page\n",
            "Iterating through next page\n",
            "Iterating through next page\n",
            "Iterating through next page\n"
          ]
        }
      ]
    }
  ]
}
